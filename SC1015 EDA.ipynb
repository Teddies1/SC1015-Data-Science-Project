{
 "cells": [
  {
   "cell_type": "markdown",
   "id": "95482f99-e445-4051-a3db-9a5ea95aa94e",
   "metadata": {
    "tags": []
   },
   "source": [
    "# Exploratory data analysis\n",
    "\n",
    "**We still start out by looking at our dataset after, we will see their correlation of each of the predictors and choose predictors that are beneficial in solving our problem**"
   ]
  },
  {
   "cell_type": "markdown",
   "id": "87eca5d8-2030-4d17-8b25-f08a9fdc4ebc",
   "metadata": {},
   "source": [
    "**Function to show Boxplot, histplot and violinplot ( showPlots(df,len(df.columns) )**"
   ]
  },
  {
   "cell_type": "code",
   "execution_count": null,
   "id": "f0da05a7-93db-4c6d-82b2-a61fb987c63d",
   "metadata": {},
   "outputs": [],
   "source": [
    "def showPlots(tempData, columns):\n",
    "    f, axes = plt.subplots(columns,3, figsize=(30,20))\n",
    "    count =0\n",
    "    for var in tempData:\n",
    "        try:\n",
    "            sb.boxplot(data =tempData[var],orient =\"h\", ax =axes[count,0])\n",
    "            sb.histplot(data =tempData[var],ax =axes[count,1])\n",
    "            sb.violinplot(data =tempData[var],orient =\"h\", ax =axes[count,2])\n",
    "            count+=1\n",
    "        except:\n",
    "            print(\"Skipping column: \",var)"
   ]
  },
  {
   "cell_type": "markdown",
   "id": "679c49de-c016-43a9-b5fc-b05cb8cfbcfa",
   "metadata": {},
   "source": [
    "**Function to show HeatMap ( heatMap(df,row size, col size) )**"
   ]
  },
  {
   "cell_type": "code",
   "execution_count": null,
   "id": "5739ca43-c5da-47a3-b74a-57747e796f49",
   "metadata": {},
   "outputs": [],
   "source": [
    "def heatMap(df,row,col):\n",
    "    f = plt.figure(figsize=(row, col))\n",
    "    sb.heatmap(df.corr(), vmin = -1, vmax = 1, linewidths = 1,\n",
    "               annot = True, fmt = \".2f\", annot_kws = {\"size\": 18}, cmap = \"RdBu\")"
   ]
  },
  {
   "cell_type": "markdown",
   "id": "104ff1ba-dd10-4248-9074-4cd81111e2f3",
   "metadata": {},
   "source": [
    "**Function to retrieve List/Key**"
   ]
  },
  {
   "cell_type": "code",
   "execution_count": null,
   "id": "46903348-8740-4efb-8dae-9fc60187d276",
   "metadata": {},
   "outputs": [],
   "source": [
    "def getList(dict):\n",
    "    return dict.keys()\n",
    "name = getList(carrierindex)"
   ]
  },
  {
   "cell_type": "code",
   "execution_count": null,
   "id": "d2812674-4301-4075-95c8-71069b0e759b",
   "metadata": {},
   "outputs": [],
   "source": [
    "def get_key(my_dict,val):\n",
    "    for key, value in my_dict.items():\n",
    "         if val == value:\n",
    "             return key\n",
    " \n",
    "    return \"key doesn't exist\""
   ]
  },
  {
   "cell_type": "code",
   "execution_count": null,
   "id": "86b778d5-e0bf-4d23-bb0f-a3d9cb96d08e",
   "metadata": {},
   "outputs": [],
   "source": [
    "heatMap(flightdata_df,30,30);"
   ]
  },
  {
   "cell_type": "code",
   "execution_count": null,
   "id": "7a15cf3a-45b8-4e4e-9bdf-9a801fb65549",
   "metadata": {},
   "outputs": [],
   "source": [
    "flightdata_df.plot.scatter(x=\"DEP_DELAY_NEW\", y=\"ARR_DELAY_NEW\");"
   ]
  },
  {
   "cell_type": "markdown",
   "id": "82aa2931-7870-4442-9c20-0fbd0daa0268",
   "metadata": {},
   "source": [
    "**Based on our observation, we also observed that ARR_DELAY_NEW is highly correlated to DEP_DELAY_NEW and it make sense because when a flight depart late, its arrival time will eventually be late. We also observed several predictors which have low correlation to DEP/ARR delays. We will extract \"OP_CARRIER\" to find out the carrier that has the highest number of delays, extract \"ORIGIN\" to find out the country that has the highest number of delays.**"
   ]
  },
  {
   "cell_type": "code",
   "execution_count": null,
   "id": "d04ea7e2-0e14-4bdf-85fc-d96acf293223",
   "metadata": {},
   "outputs": [],
   "source": [
    "flightdata_df[['OP_CARRIER','DEP_DELAY_NEW','ARR_DELAY_NEW','CANCELLATION_CODE','CARRIER_DELAY','WEATHER_DELAY','NAS_DELAY','SECURITY_DELAY','LATE_AIRCRAFT_DELAY']].describe()"
   ]
  },
  {
   "cell_type": "markdown",
   "id": "264c059c-5586-451e-a4c1-87a451e03ecc",
   "metadata": {},
   "source": [
    "**Based on the observation, we can see that there are outliers that is too far away from the median. We will remove the outliers later**"
   ]
  },
  {
   "cell_type": "markdown",
   "id": "4ae73f7d-9fe0-4933-ae6f-735af859bb4b",
   "metadata": {},
   "source": [
    "# Choose predictors and get rid of outliers\n",
    "\n"
   ]
  },
  {
   "cell_type": "code",
   "execution_count": null,
   "id": "0e77570d-1157-4574-9281-edb1bfa1ad68",
   "metadata": {},
   "outputs": [],
   "source": [
    "#remove Outliers\n",
    "Q1 = flightdata_df.quantile(0.25)\n",
    "Q3 = flightdata_df.quantile(0.75)\n",
    "IQR = Q3-Q1\n",
    "newData = flightdata_df[~((flightdata_df <(Q1 -1.5*IQR))|(flightdata_df > (Q3 +1.5*IQR))).any(axis=1)]"
   ]
  },
  {
   "cell_type": "code",
   "execution_count": null,
   "id": "5500f8f9-6865-485f-a74a-2f443b622095",
   "metadata": {},
   "outputs": [],
   "source": [
    "flightData = newData[['ARR_TIME','ARR_DELAY_NEW','DEP_DELAY_NEW','DEP_DELAY','CARRIER_DELAY','NAS_DELAY','LATE_AIRCRAFT_DELAY','OP_CARRIER','ORIGIN']]"
   ]
  },
  {
   "cell_type": "code",
   "execution_count": null,
   "id": "4ea8e3c0-845c-457b-aa08-6f5fc780d29a",
   "metadata": {},
   "outputs": [],
   "source": [
    "flightData[['ARR_DELAY_NEW','DEP_DELAY_NEW']].describe()"
   ]
  },
  {
   "cell_type": "markdown",
   "id": "eda0ad36-9176-4548-9cca-200730352e00",
   "metadata": {},
   "source": [
    "**We chose 'ARR_TIME','ARR_DELAY_NEW','DEP_DELAY_NEW','DEP_DELAY','CARRIER_DELAY','NAS_DELAY','LATE_AIRCRAFT_DELAY' predictors as we observe from the heatmap that they are correlated with each other. We chose 'OP_CARRIER','ORIGIN' because we want to explore the delays based on the airlines and origin of the airport**"
   ]
  },
  {
   "cell_type": "code",
   "execution_count": null,
   "id": "0f6e35c5-a50e-405b-a913-e5b2ad418ab8",
   "metadata": {},
   "outputs": [],
   "source": [
    "sb.boxplot(x=newData['DEP_DELAY'])"
   ]
  },
  {
   "cell_type": "markdown",
   "id": "0a706844-a025-43ab-99bd-662e6fdd9224",
   "metadata": {},
   "source": [
    "**Based on our observation, we can conclude that more than 75% of delays are 0 as negative delays refers to early departure which is not beneficial for our problem. We will be converting all negative delays into zeros and store into \"DEP_DELAY_NEW\". Hence, we will be using \"DEP_DELAY_NEW\" from now on. We were not able to show the boxplot for \"DEP_DELAY_NEW\" it is highly compressed**"
   ]
  },
  {
   "cell_type": "markdown",
   "id": "67da179c-238a-49b9-9a86-84c574398f2c",
   "metadata": {},
   "source": [
    "**Comparing before/after removing outliers using heatmap, we could see that NAS_DELAY is highly correlated to the Departure Delay**"
   ]
  },
  {
   "cell_type": "code",
   "execution_count": null,
   "id": "6a4e72d1-9fd7-4686-84c8-84c430644809",
   "metadata": {},
   "outputs": [],
   "source": [
    "sb.kdeplot(\n",
    "   data=newData, x=\"DEP_DELAY\",\n",
    "   fill=True,bw_method=0.3)"
   ]
  },
  {
   "cell_type": "markdown",
   "id": "a6d226c4-c023-47f1-8262-5383c779121d",
   "metadata": {},
   "source": [
    "**Based on the Kernel Density Estimate plot, we observed that most of the delays lies between -5 to -2**"
   ]
  },
  {
   "cell_type": "code",
   "execution_count": null,
   "id": "f4c7decc-59e1-4bc0-910d-f7a121ea79e2",
   "metadata": {},
   "outputs": [],
   "source": [
    "print(flightData.corr())\n",
    "heatMap(flightData,30,30)"
   ]
  },
  {
   "cell_type": "code",
   "execution_count": null,
   "id": "442b73f4-890a-466f-b5eb-54976016be4b",
   "metadata": {},
   "outputs": [],
   "source": [
    "sb.set(rc={'figure.figsize':(15,13)})\n",
    "averageFlight = newData.groupby('OP_CARRIER').DEP_DELAY_NEW.mean()\n",
    "averageFlight.index = list(name)\n",
    "averageFlight=averageFlight.sort_values(ascending=False).head(20)\n",
    "sb.barplot(averageFlight.values, averageFlight.index, alpha=0.8,orient='h').set(title=\"Airline's average delay time\")\n",
    "ax =sb.barplot(averageFlight.values, averageFlight.index, alpha=0.8,orient='h')\n",
    "ax.bar_label(ax.containers[0])\n",
    "ax.set(xlabel=\"Minutes\", ylabel = \"Airline\")"
   ]
  },
  {
   "cell_type": "markdown",
   "id": "d2ca5ed0-b452-4a2a-854e-f9057cbd766a",
   "metadata": {},
   "source": [
    "**By Visualizing the plot, we observed that the top 5 Airlines with highest average delay timing are as follows:**\n",
    "\n",
    "**1) Frontier Airline**\\\n",
    "**2) JetBlue Airways**\\\n",
    "**3) Allegiant Air**\\\n",
    "**4) DexpressJet**\\\n",
    "**5) PSA Airlines**\n"
   ]
  },
  {
   "cell_type": "code",
   "execution_count": null,
   "id": "5cbde19b-c130-4e04-8e4d-7530498c5e80",
   "metadata": {},
   "outputs": [],
   "source": [
    "temptemptemp = flightData[\"OP_CARRIER\"].value_counts()\n",
    "temptemptemp.index = list(name)\n",
    "AirlineDelay = temptemptemp.sort_values(ascending=False).head(20)\n",
    "sb.set(rc={'figure.figsize':(15,13)})\n",
    "sb.barplot(AirlineDelay.values, AirlineDelay.index, alpha=0.8,orient='h').set(title=\"Airline delay count\")\n",
    "ax =sb.barplot(AirlineDelay.values, AirlineDelay.index, alpha=0.8,orient='h')\n",
    "ax.bar_label(ax.containers[0])"
   ]
  },
  {
   "cell_type": "markdown",
   "id": "16b3f54c-2cc3-41c5-ab48-223478532b53",
   "metadata": {},
   "source": [
    "**By Visualizing the plot, we observed that the top 5 Airlines with highest delay counts are as follows:**\n",
    "\n",
    "**1) United Airline**\\\n",
    "**2) Alaska Airways**\\\n",
    "**3) Endeavor Air**\\\n",
    "**4) JetBlue Airways**\\\n",
    "**5) ExpressJet**\n"
   ]
  },
  {
   "cell_type": "code",
   "execution_count": null,
   "id": "60bcb790-fed0-46a5-9f0e-0d36669aae8e",
   "metadata": {},
   "outputs": [],
   "source": [
    "temptemptemp = flightdata_df[\"ORIGIN\"].value_counts()\n",
    "airportList = getList(airportDict)\n",
    "temptemptemp.index =list(airportList)\n",
    "originDelay = temptemptemp.sort_values(ascending=False).head(30)\n",
    "sb.set(rc={'figure.figsize':(15,13)})\n",
    "sb.barplot(originDelay.values, originDelay.index, alpha=0.8,orient='h').set(title=\"ORIGIN delay count\")\n",
    "ax =sb.barplot(originDelay.values, originDelay.index, alpha=0.8,orient='h')\n",
    "ax.bar_label(ax.containers[0])"
   ]
  },
  {
   "cell_type": "markdown",
   "id": "871a49b1-e49d-4884-96e2-929413380840",
   "metadata": {},
   "source": [
    "**By Visualizing the plot, we observed that the top 5 States with highest delay counts are as follows:**\n",
    "\n",
    "**1) Denver**\\\n",
    "**2) San Francisco**\\\n",
    "**3) O’Hare Airport (Chicago)** \\\n",
    "**4) Albany International Airport (New York)** \\\n",
    "**5) Omaha (Eppley Airfield)**\n",
    "\n"
   ]
  },
  {
   "cell_type": "code",
   "execution_count": null,
   "id": "73884a8e-372b-4a17-b1da-9048f4ce7b42",
   "metadata": {},
   "outputs": [],
   "source": [
    "new_dict = dict([(value, key) for key, value in airportDict.items()])\n",
    "newData[\"ORIGINNAME\"] = newData['ORIGIN'].map(new_dict)\n",
    "sb.set(rc={'figure.figsize':(15,13)})\n",
    "averageFlight = newData.groupby('ORIGINNAME').DEP_DELAY_NEW.mean()\n",
    "\n",
    "#averageFlight.index = list(airportList)\n",
    "averageFlight=averageFlight.sort_values(ascending=False).head(20)\n",
    "averageFlight.rename(new_dict)\n",
    "sb.barplot(averageFlight.values, averageFlight.index, alpha=0.8,orient='h').set(title=\"ORIGIN average delay time\")\n",
    "ax =sb.barplot(averageFlight.values, averageFlight.index, alpha=0.8,orient='h')\n",
    "ax.bar_label(ax.containers[0])\n",
    "ax.set(xlabel=\"Minutes\", ylabel = \"Airline\")"
   ]
  },
  {
   "cell_type": "markdown",
   "id": "3bc17521-830f-4b30-9e2d-ea861741b61b",
   "metadata": {},
   "source": [
    "**By Visualizing the plot, we observed that the top 5 States with highest average delay time are as follows:**\n",
    "\n",
    "**1) STL (St. Louis)** \\\n",
    "**2) OAK (Oakland)** \\\n",
    "**3) BUR (Burbank)** \\\n",
    "**4) LAS (Las vegas)** \\\n",
    "**5) BWI (Baltimore/D.C)**\n",
    "\n"
   ]
  },
  {
   "cell_type": "code",
   "execution_count": null,
   "id": "5ed111c9-6622-463b-bbcd-2e1382fe4f84",
   "metadata": {},
   "outputs": [],
   "source": [
    "newData.to_csv (r'INPUT PATH HERE', index = False, header=True)\n",
    "\n",
    "# note: change the path name inside the quotation marks to the address where you want the CSV to be exported to.\n",
    "# make sure the imported file ends with (.csv). You can also use .txt if you want.\n",
    "# after running this code snippet the CSV will be downloaded into the path address"
   ]
  },
  {
   "cell_type": "code",
   "execution_count": null,
   "id": "7eae0eae-1b29-452f-bbde-8d03370ce855",
   "metadata": {},
   "outputs": [],
   "source": []
  }
 ],
 "metadata": {
  "kernelspec": {
   "display_name": "Python 3 (ipykernel)",
   "language": "python",
   "name": "python3"
  },
  "language_info": {
   "codemirror_mode": {
    "name": "ipython",
    "version": 3
   },
   "file_extension": ".py",
   "mimetype": "text/x-python",
   "name": "python",
   "nbconvert_exporter": "python",
   "pygments_lexer": "ipython3",
   "version": "3.9.7"
  }
 },
 "nbformat": 4,
 "nbformat_minor": 5
}
